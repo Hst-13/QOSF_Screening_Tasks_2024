{
  "nbformat": 4,
  "nbformat_minor": 0,
  "metadata": {
    "colab": {
      "provenance": []
    },
    "kernelspec": {
      "name": "python3",
      "display_name": "Python 3"
    },
    "language_info": {
      "name": "python"
    }
  },
  "cells": [
    {
      "cell_type": "code",
      "execution_count": 1,
      "metadata": {
        "colab": {
          "base_uri": "https://localhost:8080/"
        },
        "id": "nLUh3DIdm3Sb",
        "outputId": "427c7671-2548-4565-ed7d-44bf472e5d24"
      },
      "outputs": [
        {
          "output_type": "stream",
          "name": "stdout",
          "text": [
            "\u001b[2K   \u001b[90m━━━━━━━━━━━━━━━━━━━━━━━━━━━━━━━━━━━━━━━━\u001b[0m \u001b[32m4.8/4.8 MB\u001b[0m \u001b[31m21.7 MB/s\u001b[0m eta \u001b[36m0:00:00\u001b[0m\n",
            "\u001b[2K   \u001b[90m━━━━━━━━━━━━━━━━━━━━━━━━━━━━━━━━━━━━━━━━\u001b[0m \u001b[32m119.4/119.4 kB\u001b[0m \u001b[31m6.2 MB/s\u001b[0m eta \u001b[36m0:00:00\u001b[0m\n",
            "\u001b[2K   \u001b[90m━━━━━━━━━━━━━━━━━━━━━━━━━━━━━━━━━━━━━━━━\u001b[0m \u001b[32m2.0/2.0 MB\u001b[0m \u001b[31m34.2 MB/s\u001b[0m eta \u001b[36m0:00:00\u001b[0m\n",
            "\u001b[2K   \u001b[90m━━━━━━━━━━━━━━━━━━━━━━━━━━━━━━━━━━━━━━━━\u001b[0m \u001b[32m49.7/49.7 kB\u001b[0m \u001b[31m2.1 MB/s\u001b[0m eta \u001b[36m0:00:00\u001b[0m\n",
            "\u001b[2K   \u001b[90m━━━━━━━━━━━━━━━━━━━━━━━━━━━━━━━━━━━━━━━━\u001b[0m \u001b[32m49.7/49.7 MB\u001b[0m \u001b[31m12.5 MB/s\u001b[0m eta \u001b[36m0:00:00\u001b[0m\n",
            "\u001b[2K   \u001b[90m━━━━━━━━━━━━━━━━━━━━━━━━━━━━━━━━━━━━━━━━\u001b[0m \u001b[32m108.5/108.5 kB\u001b[0m \u001b[31m3.6 MB/s\u001b[0m eta \u001b[36m0:00:00\u001b[0m\n",
            "\u001b[2K     \u001b[90m━━━━━━━━━━━━━━━━━━━━━━━━━━━━━━━━━━━━━━━━\u001b[0m \u001b[32m643.4/643.4 kB\u001b[0m \u001b[31m9.3 MB/s\u001b[0m eta \u001b[36m0:00:00\u001b[0m\n",
            "\u001b[?25h  Installing build dependencies ... \u001b[?25l\u001b[?25hdone\n",
            "  Getting requirements to build wheel ... \u001b[?25l\u001b[?25hdone\n",
            "  Installing backend dependencies ... \u001b[?25l\u001b[?25hdone\n",
            "  Preparing metadata (pyproject.toml) ... \u001b[?25l\u001b[?25hdone\n",
            "\u001b[2K   \u001b[90m━━━━━━━━━━━━━━━━━━━━━━━━━━━━━━━━━━━━━━━━\u001b[0m \u001b[32m167.6/167.6 kB\u001b[0m \u001b[31m12.0 MB/s\u001b[0m eta \u001b[36m0:00:00\u001b[0m\n",
            "\u001b[2K   \u001b[90m━━━━━━━━━━━━━━━━━━━━━━━━━━━━━━━━━━━━━━━━\u001b[0m \u001b[32m310.5/310.5 kB\u001b[0m \u001b[31m19.7 MB/s\u001b[0m eta \u001b[36m0:00:00\u001b[0m\n",
            "\u001b[?25h  Building wheel for docplex (pyproject.toml) ... \u001b[?25l\u001b[?25hdone\n"
          ]
        }
      ],
      "source": [
        "!pip -q install qiskit\n",
        "!pip -q install qiskit-optimization"
      ]
    },
    {
      "cell_type": "code",
      "source": [
        "from qiskit_algorithms.utils import algorithm_globals\n",
        "from qiskit_algorithms import QAOA, NumPyMinimumEigensolver\n",
        "from qiskit_algorithms.optimizers import COBYLA\n",
        "from qiskit.primitives import StatevectorSampler, Sampler\n",
        "from qiskit_optimization.algorithms import MinimumEigenOptimizer\n",
        "\n",
        "from docplex.mp.model import Model\n",
        "from qiskit_optimization import QuadraticProgram\n",
        "from qiskit_optimization.translators import from_docplex_mp\n",
        "from qiskit_optimization.converters import QuadraticProgramToQubo\n",
        "import numpy as np"
      ],
      "metadata": {
        "id": "_yxGRRAanGsL"
      },
      "execution_count": 31,
      "outputs": []
    },
    {
      "cell_type": "markdown",
      "source": [
        "## ILP Formulation of BPP using Docplex"
      ],
      "metadata": {
        "id": "S5pfK8QAcdej"
      }
    },
    {
      "cell_type": "code",
      "source": [
        "def bin_packing_bpp(sizes, bin_capacity):\n",
        "\n",
        "    n = len(sizes)       # Number of items\n",
        "    m = n                # Upper bound on number of bins (at most one item per bin in the worst case)\n",
        "\n",
        "    model = Model(\"Bin_Packing\")\n",
        "\n",
        "    x = {(i, j): model.binary_var(name=f\"x_{i}_{j}\") for i in range(n) for j in range(m)}\n",
        "    y = {j: model.binary_var(name=f\"y_{j}\") for j in range(m)}\n",
        "\n",
        "    model.minimize(model.sum(y[j] for j in range(m)))\n",
        "\n",
        "    for i in range(n):\n",
        "        model.add_constraint(model.sum(x[i, j] for j in range(m)) == 1, ctname=f\"assign_item_{i}\")\n",
        "\n",
        "    for j in range(m):\n",
        "        model.add_constraint(\n",
        "            model.sum(sizes[i] * x[i, j] for i in range(n)) <= bin_capacity * y[j],\n",
        "            ctname=f\"bin_capacity_{j}\"\n",
        "        )\n",
        "\n",
        "    return model"
      ],
      "metadata": {
        "id": "iIghv-gtoeNv"
      },
      "execution_count": 3,
      "outputs": []
    },
    {
      "cell_type": "code",
      "source": [
        "sizes = [3, 2, 1]\n",
        "bin_capacity = 3\n",
        "\n",
        "docplex_model = bin_packing_bpp(sizes, bin_capacity)\n",
        "docplex_model.prettyprint()"
      ],
      "metadata": {
        "colab": {
          "base_uri": "https://localhost:8080/"
        },
        "id": "iVcfnODiosSo",
        "outputId": "3ba2c05f-4bf2-44ae-b352-18f84aabcc9e"
      },
      "execution_count": 4,
      "outputs": [
        {
          "output_type": "stream",
          "name": "stdout",
          "text": [
            "// This file has been generated by DOcplex\n",
            "// model name is: Bin_Packing\n",
            "// single vars section\n",
            "dvar bool x_0_0;\n",
            "dvar bool x_0_1;\n",
            "dvar bool x_0_2;\n",
            "dvar bool x_1_0;\n",
            "dvar bool x_1_1;\n",
            "dvar bool x_1_2;\n",
            "dvar bool x_2_0;\n",
            "dvar bool x_2_1;\n",
            "dvar bool x_2_2;\n",
            "dvar bool y_0;\n",
            "dvar bool y_1;\n",
            "dvar bool y_2;\n",
            "\n",
            "minimize\n",
            " y_0 + y_1 + y_2;\n",
            " \n",
            "subject to {\n",
            " assign_item_0:\n",
            "  x_0_0 + x_0_1 + x_0_2 == 1;\n",
            " assign_item_1:\n",
            "  x_1_0 + x_1_1 + x_1_2 == 1;\n",
            " assign_item_2:\n",
            "  x_2_0 + x_2_1 + x_2_2 == 1;\n",
            " bin_capacity_0:\n",
            "  3 x_0_0 + 2 x_1_0 + x_2_0 <= 3 y_0;\n",
            " bin_capacity_1:\n",
            "  3 x_0_1 + 2 x_1_1 + x_2_1 <= 3 y_1;\n",
            " bin_capacity_2:\n",
            "  3 x_0_2 + 2 x_1_2 + x_2_2 <= 3 y_2;\n",
            "\n",
            "}\n"
          ]
        }
      ]
    },
    {
      "cell_type": "markdown",
      "source": [
        "## Transforming the ILP model into a QUBO"
      ],
      "metadata": {
        "id": "46DpM5EPc_Zl"
      }
    },
    {
      "cell_type": "code",
      "source": [
        "def ILP_to_QUBO(ILP):\n",
        "\n",
        "  qp = from_docplex_mp(ILP)\n",
        "  print(\"QuadraticProgram obtained from docplex\")\n",
        "  print(qp.prettyprint())\n",
        "\n",
        "  converter = QuadraticProgramToQubo()\n",
        "  print(converter.get_compatibility_msg(qp))\n",
        "  qubo_bpp = converter.convert(qp)\n",
        "\n",
        "  return qubo_bpp"
      ],
      "metadata": {
        "colab": {
          "base_uri": "https://localhost:8080/"
        },
        "id": "7VOkMpuoo6Gb",
        "outputId": "13cd2cd0-e4ce-4fbb-f4e0-7fb02d423a82"
      },
      "execution_count": 5,
      "outputs": [
        {
          "output_type": "stream",
          "name": "stdout",
          "text": [
            "QuadraticProgram obtained from docplex\n",
            "Problem name: Bin_Packing\n",
            "\n",
            "Minimize\n",
            "  y_0 + y_1 + y_2\n",
            "\n",
            "Subject to\n",
            "  Linear constraints (6)\n",
            "    x_0_0 + x_0_1 + x_0_2 == 1  'assign_item_0'\n",
            "    x_1_0 + x_1_1 + x_1_2 == 1  'assign_item_1'\n",
            "    x_2_0 + x_2_1 + x_2_2 == 1  'assign_item_2'\n",
            "    3*x_0_0 + 2*x_1_0 + x_2_0 - 3*y_0 <= 0  'bin_capacity_0'\n",
            "    3*x_0_1 + 2*x_1_1 + x_2_1 - 3*y_1 <= 0  'bin_capacity_1'\n",
            "    3*x_0_2 + 2*x_1_2 + x_2_2 - 3*y_2 <= 0  'bin_capacity_2'\n",
            "\n",
            "  Binary variables (12)\n",
            "    x_0_0 x_0_1 x_0_2 x_1_0 x_1_1 x_1_2 x_2_0 x_2_1 x_2_2 y_0 y_1 y_2\n",
            "\n"
          ]
        }
      ]
    },
    {
      "cell_type": "code",
      "source": [
        "qubo_bpp = ILP_to_QUBO(docplex_model)\n",
        "print(qubo_bpp.prettyprint())"
      ],
      "metadata": {
        "colab": {
          "base_uri": "https://localhost:8080/"
        },
        "id": "8m7khQ4nH1hq",
        "outputId": "621398ee-744b-432c-a689-c7f2fa45f798"
      },
      "execution_count": 51,
      "outputs": [
        {
          "output_type": "stream",
          "name": "stdout",
          "text": [
            "Problem name: Bin_Packing\n",
            "\n",
            "Minimize\n",
            "  4*bin_capacity_0@int_slack@0^2\n",
            "  + 16*bin_capacity_0@int_slack@0*bin_capacity_0@int_slack@1\n",
            "  + 16*bin_capacity_0@int_slack@1^2 + 4*bin_capacity_1@int_slack@0^2\n",
            "  + 16*bin_capacity_1@int_slack@0*bin_capacity_1@int_slack@1\n",
            "  + 16*bin_capacity_1@int_slack@1^2 + 4*bin_capacity_2@int_slack@0^2\n",
            "  + 16*bin_capacity_2@int_slack@0*bin_capacity_2@int_slack@1\n",
            "  + 16*bin_capacity_2@int_slack@1^2 + 24*x_0_0*bin_capacity_0@int_slack@0\n",
            "  + 48*x_0_0*bin_capacity_0@int_slack@1 + 40*x_0_0^2 + 8*x_0_0*x_0_1\n",
            "  + 8*x_0_0*x_0_2 + 48*x_0_0*x_1_0 + 24*x_0_0*x_2_0 - 72*x_0_0*y_0\n",
            "  + 24*x_0_1*bin_capacity_1@int_slack@0 + 48*x_0_1*bin_capacity_1@int_slack@1\n",
            "  + 40*x_0_1^2 + 8*x_0_1*x_0_2 + 48*x_0_1*x_1_1 + 24*x_0_1*x_2_1 - 72*x_0_1*y_1\n",
            "  + 24*x_0_2*bin_capacity_2@int_slack@0 + 48*x_0_2*bin_capacity_2@int_slack@1\n",
            "  + 40*x_0_2^2 + 48*x_0_2*x_1_2 + 24*x_0_2*x_2_2 - 72*x_0_2*y_2\n",
            "  + 16*x_1_0*bin_capacity_0@int_slack@0 + 32*x_1_0*bin_capacity_0@int_slack@1\n",
            "  + 20*x_1_0^2 + 8*x_1_0*x_1_1 + 8*x_1_0*x_1_2 + 16*x_1_0*x_2_0 - 48*x_1_0*y_0\n",
            "  + 16*x_1_1*bin_capacity_1@int_slack@0 + 32*x_1_1*bin_capacity_1@int_slack@1\n",
            "  + 20*x_1_1^2 + 8*x_1_1*x_1_2 + 16*x_1_1*x_2_1 - 48*x_1_1*y_1\n",
            "  + 16*x_1_2*bin_capacity_2@int_slack@0 + 32*x_1_2*bin_capacity_2@int_slack@1\n",
            "  + 20*x_1_2^2 + 16*x_1_2*x_2_2 - 48*x_1_2*y_2\n",
            "  + 8*x_2_0*bin_capacity_0@int_slack@0 + 16*x_2_0*bin_capacity_0@int_slack@1\n",
            "  + 8*x_2_0^2 + 8*x_2_0*x_2_1 + 8*x_2_0*x_2_2 - 24*x_2_0*y_0\n",
            "  + 8*x_2_1*bin_capacity_1@int_slack@0 + 16*x_2_1*bin_capacity_1@int_slack@1\n",
            "  + 8*x_2_1^2 + 8*x_2_1*x_2_2 - 24*x_2_1*y_1\n",
            "  + 8*x_2_2*bin_capacity_2@int_slack@0 + 16*x_2_2*bin_capacity_2@int_slack@1\n",
            "  + 8*x_2_2^2 - 24*x_2_2*y_2 - 24*y_0*bin_capacity_0@int_slack@0\n",
            "  - 48*y_0*bin_capacity_0@int_slack@1 + 36*y_0^2\n",
            "  - 24*y_1*bin_capacity_1@int_slack@0 - 48*y_1*bin_capacity_1@int_slack@1\n",
            "  + 36*y_1^2 - 24*y_2*bin_capacity_2@int_slack@0\n",
            "  - 48*y_2*bin_capacity_2@int_slack@1 + 36*y_2^2 - 8*x_0_0 - 8*x_0_1 - 8*x_0_2\n",
            "  - 8*x_1_0 - 8*x_1_1 - 8*x_1_2 - 8*x_2_0 - 8*x_2_1 - 8*x_2_2 + y_0 + y_1 + y_2\n",
            "  + 12\n",
            "\n",
            "Subject to\n",
            "  No constraints\n",
            "\n",
            "  Binary variables (18)\n",
            "    x_0_0 x_0_1 x_0_2 x_1_0 x_1_1 x_1_2 x_2_0 x_2_1 x_2_2 y_0 y_1 y_2\n",
            "    bin_capacity_0@int_slack@0 bin_capacity_0@int_slack@1\n",
            "    bin_capacity_1@int_slack@0 bin_capacity_1@int_slack@1\n",
            "    bin_capacity_2@int_slack@0 bin_capacity_2@int_slack@1\n",
            "\n"
          ]
        }
      ]
    },
    {
      "cell_type": "markdown",
      "source": [
        "## Solving QUBO using QAOA"
      ],
      "metadata": {
        "id": "ytuGoTCgd5k9"
      }
    },
    {
      "cell_type": "code",
      "source": [
        "op, offset = qubo_bpp.to_ising()\n",
        "print(\"offset: {}\".format(offset))\n",
        "print(\"operator:\")\n",
        "print(op)"
      ],
      "metadata": {
        "colab": {
          "base_uri": "https://localhost:8080/"
        },
        "id": "eZce-XjQpJyC",
        "outputId": "07095b2d-8474-4de9-9a1d-f0b32e892c71"
      },
      "execution_count": 9,
      "outputs": [
        {
          "output_type": "stream",
          "name": "stdout",
          "text": [
            "offset: 205.5\n",
            "operator:\n",
            "SparsePauliOp(['IIIIIIIIZIIIIIIIII', 'IIIIIIIZIIIIIIIIII', 'IIIIIIZIIIIIIIIIII', 'IIIIIIIIIIIIIIIIIZ', 'IIIIIIIIIIIIIIIIZI', 'IIIIIIIIIIIIIIIZII', 'IIIIIIIIIIIIIIZIII', 'IIIIIIIIIIIIIZIIII', 'IIIIIIIIIIIIZIIIII', 'IIIIIIIIIIIZIIIIII', 'IIIIIIIIIIZIIIIIII', 'IIIIIIIIIZIIIIIIII', 'IIIIIIIIIIIIIIIIZZ', 'IIIIIIIIIIIIIIIZIZ', 'IIIIIIIIIIIIIIZIIZ', 'IIIIIIIIIIIZIIIIIZ', 'IIIIIIIIZIIIIIIIIZ', 'IIIIIZIIIIIIIIIIIZ', 'IIIIIZIIIIIIIIIIII', 'IIIIZIIIIIIIIIIIIZ', 'IIIIZIIIIIIIIIIIII', 'IIIIIIIIIIIIIIIZZI', 'IIIIIIIIIIIIIZIIZI', 'IIIIIIIIIIZIIIIIZI', 'IIIIIIIZIIIIIIIIZI', 'IIIZIIIIIIIIIIIIZI', 'IIIZIIIIIIIIIIIIII', 'IIZIIIIIIIIIIIIIZI', 'IIZIIIIIIIIIIIIIII', 'IIIIIIIIIIIIZIIZII', 'IIIIIIIIIZIIIIIZII', 'IIIIIIZIIIIIIIIZII', 'IZIIIIIIIIIIIIIZII', 'IZIIIIIIIIIIIIIIII', 'ZIIIIIIIIIIIIIIZII', 'ZIIIIIIIIIIIIIIIII', 'IIIIIIIIIIIIIZZIII', 'IIIIIIIIIIIIZIZIII', 'IIIIIIIIIIIZIIZIII', 'IIIIIIIIZIIIIIZIII', 'IIIIIZIIIIIIIIZIII', 'IIIIZIIIIIIIIIZIII', 'IIIIIIIIIIIIZZIIII', 'IIIIIIIIIIZIIZIIII', 'IIIIIIIZIIIIIZIIII', 'IIIZIIIIIIIIIZIIII', 'IIZIIIIIIIIIIZIIII', 'IIIIIIIIIZIIZIIIII', 'IIIIIIZIIIIIZIIIII', 'IZIIIIIIIIIIZIIIII', 'ZIIIIIIIIIIIZIIIII', 'IIIIIIIIIIZZIIIIII', 'IIIIIIIIIZIZIIIIII', 'IIIIIIIIZIIZIIIIII', 'IIIIIZIIIIIZIIIIII', 'IIIIZIIIIIIZIIIIII', 'IIIIIIIIIZZIIIIIII', 'IIIIIIIZIIZIIIIIII', 'IIIZIIIIIIZIIIIIII', 'IIZIIIIIIIZIIIIIII', 'IIIIIIZIIZIIIIIIII', 'IZIIIIIIIZIIIIIIII', 'ZIIIIIIIIZIIIIIIII', 'IIIIIZIIZIIIIIIIII', 'IIIIZIIIZIIIIIIIII', 'IIIZIIIZIIIIIIIIII', 'IIZIIIIZIIIIIIIIII', 'IZIIIIZIIIIIIIIIII', 'ZIIIIIZIIIIIIIIIII', 'IIIIZZIIIIIIIIIIII', 'IIZZIIIIIIIIIIIIII', 'ZZIIIIIIIIIIIIIIII'],\n",
            "              coeffs=[ 35.5+0.j,  35.5+0.j,  35.5+0.j, -38. +0.j, -38. +0.j, -38. +0.j,\n",
            " -26. +0.j, -26. +0.j, -26. +0.j, -14. +0.j, -14. +0.j, -14. +0.j,\n",
            "   2. +0.j,   2. +0.j,  12. +0.j,   6. +0.j, -18. +0.j,   6. +0.j,\n",
            " -12. +0.j,  12. +0.j, -24. +0.j,   2. +0.j,  12. +0.j,   6. +0.j,\n",
            " -18. +0.j,   6. +0.j, -12. +0.j,  12. +0.j, -24. +0.j,  12. +0.j,\n",
            "   6. +0.j, -18. +0.j,   6. +0.j, -12. +0.j,  12. +0.j, -24. +0.j,\n",
            "   2. +0.j,   2. +0.j,   4. +0.j, -12. +0.j,   4. +0.j,   8. +0.j,\n",
            "   2. +0.j,   4. +0.j, -12. +0.j,   4. +0.j,   8. +0.j,   4. +0.j,\n",
            " -12. +0.j,   4. +0.j,   8. +0.j,   2. +0.j,   2. +0.j,  -6. +0.j,\n",
            "   2. +0.j,   4. +0.j,   2. +0.j,  -6. +0.j,   2. +0.j,   4. +0.j,\n",
            "  -6. +0.j,   2. +0.j,   4. +0.j,  -6. +0.j, -12. +0.j,  -6. +0.j,\n",
            " -12. +0.j,  -6. +0.j, -12. +0.j,   4. +0.j,   4. +0.j,   4. +0.j])\n"
          ]
        }
      ]
    },
    {
      "cell_type": "code",
      "source": [
        "algorithm_globals.random_seed = 10598\n",
        "qaoa_mes = QAOA(sampler=Sampler(), optimizer=COBYLA(), initial_point=[0.0, 0.0])\n",
        "exact_mes = NumPyMinimumEigensolver()"
      ],
      "metadata": {
        "colab": {
          "base_uri": "https://localhost:8080/"
        },
        "id": "OEepmnjprlch",
        "outputId": "dbf16c9f-9d39-4797-fcb3-cc486d67cc13"
      },
      "execution_count": 32,
      "outputs": [
        {
          "output_type": "stream",
          "name": "stderr",
          "text": [
            "<ipython-input-32-4da92eebfbf9>:2: DeprecationWarning: The class ``qiskit.primitives.sampler.Sampler`` is deprecated as of qiskit 1.2. It will be removed no earlier than 3 months after the release date. All implementations of the `BaseSamplerV1` interface have been deprecated in favor of their V2 counterparts. The V2 alternative for the `Sampler` class is `StatevectorSampler`.\n",
            "  qaoa_mes = QAOA(sampler=Sampler(), optimizer=COBYLA(), initial_point=[0.0, 0.0])\n"
          ]
        }
      ]
    },
    {
      "cell_type": "code",
      "source": [
        "qaoa = MinimumEigenOptimizer(qaoa_mes)  # using QAOA\n",
        "exact = MinimumEigenOptimizer(exact_mes)  # using the exact classical numpy minimum eigen solver"
      ],
      "metadata": {
        "id": "JFZqJmWlsCx5"
      },
      "execution_count": 34,
      "outputs": []
    },
    {
      "cell_type": "code",
      "source": [
        "exact_result = exact.solve(qubo_bpp)\n",
        "print(exact_result.prettyprint())"
      ],
      "metadata": {
        "colab": {
          "base_uri": "https://localhost:8080/"
        },
        "id": "R7H56iRTsHH4",
        "outputId": "f67289fe-632a-4fc3-ca1b-2619852f9041"
      },
      "execution_count": 29,
      "outputs": [
        {
          "output_type": "stream",
          "name": "stdout",
          "text": [
            "objective function value: 2.0\n",
            "variable values: x_0_0=0.0, x_0_1=1.0, x_0_2=0.0, x_1_0=0.0, x_1_1=0.0, x_1_2=1.0, x_2_0=0.0, x_2_1=0.0, x_2_2=1.0, y_0=0.0, y_1=1.0, y_2=1.0, bin_capacity_0@int_slack@0=0.0, bin_capacity_0@int_slack@1=0.0, bin_capacity_1@int_slack@0=0.0, bin_capacity_1@int_slack@1=0.0, bin_capacity_2@int_slack@0=0.0, bin_capacity_2@int_slack@1=0.0\n",
            "status: SUCCESS\n"
          ]
        }
      ]
    },
    {
      "cell_type": "code",
      "source": [
        "qaoa_result = qaoa.solve(qubo_bpp)\n",
        "print(qaoa_result.prettyprint())"
      ],
      "metadata": {
        "colab": {
          "base_uri": "https://localhost:8080/"
        },
        "id": "yd2ZmLA3vGze",
        "outputId": "109c361c-21f1-4529-e3cb-15ceee5a734e"
      },
      "execution_count": 35,
      "outputs": [
        {
          "output_type": "stream",
          "name": "stdout",
          "text": [
            "objective function value: 2.0\n",
            "variable values: x_0_0=0.0, x_0_1=1.0, x_0_2=0.0, x_1_0=1.0, x_1_1=0.0, x_1_2=0.0, x_2_0=1.0, x_2_1=0.0, x_2_2=0.0, y_0=1.0, y_1=1.0, y_2=0.0, bin_capacity_0@int_slack@0=0.0, bin_capacity_0@int_slack@1=0.0, bin_capacity_1@int_slack@0=0.0, bin_capacity_1@int_slack@1=0.0, bin_capacity_2@int_slack@0=0.0, bin_capacity_2@int_slack@1=0.0\n",
            "status: SUCCESS\n"
          ]
        }
      ]
    }
  ]
}