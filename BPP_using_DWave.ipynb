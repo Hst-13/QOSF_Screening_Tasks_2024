{
  "nbformat": 4,
  "nbformat_minor": 0,
  "metadata": {
    "colab": {
      "provenance": [],
      "collapsed_sections": [
        "J4nWy6HEG42G",
        "fyuKsw86fjKs"
      ]
    },
    "kernelspec": {
      "name": "python3",
      "display_name": "Python 3"
    },
    "language_info": {
      "name": "python"
    }
  },
  "cells": [
    {
      "cell_type": "code",
      "execution_count": null,
      "metadata": {
        "colab": {
          "base_uri": "https://localhost:8080/"
        },
        "id": "gFP3hlmnEhWD",
        "outputId": "8e35e0ec-612c-4aa5-9b8e-cff24f4ee68b"
      },
      "outputs": [
        {
          "output_type": "stream",
          "name": "stdout",
          "text": [
            "\u001b[?25l   \u001b[90m━━━━━━━━━━━━━━━━━━━━━━━━━━━━━━━━━━━━━━━━\u001b[0m \u001b[32m0.0/4.8 MB\u001b[0m \u001b[31m?\u001b[0m eta \u001b[36m-:--:--\u001b[0m\r\u001b[2K   \u001b[91m━━━\u001b[0m\u001b[91m╸\u001b[0m\u001b[90m━━━━━━━━━━━━━━━━━━━━━━━━━━━━━━━━━━━━\u001b[0m \u001b[32m0.5/4.8 MB\u001b[0m \u001b[31m13.6 MB/s\u001b[0m eta \u001b[36m0:00:01\u001b[0m\r\u001b[2K   \u001b[91m━━━━━━━━━━━━━━━━━━\u001b[0m\u001b[90m╺\u001b[0m\u001b[90m━━━━━━━━━━━━━━━━━━━━━\u001b[0m \u001b[32m2.2/4.8 MB\u001b[0m \u001b[31m30.4 MB/s\u001b[0m eta \u001b[36m0:00:01\u001b[0m\r\u001b[2K   \u001b[91m━━━━━━━━━━━━━━━━━━━━━━━━━━━━━━━━━━━━━━━\u001b[0m\u001b[91m╸\u001b[0m \u001b[32m4.8/4.8 MB\u001b[0m \u001b[31m45.3 MB/s\u001b[0m eta \u001b[36m0:00:01\u001b[0m\r\u001b[2K   \u001b[90m━━━━━━━━━━━━━━━━━━━━━━━━━━━━━━━━━━━━━━━━\u001b[0m \u001b[32m4.8/4.8 MB\u001b[0m \u001b[31m30.9 MB/s\u001b[0m eta \u001b[36m0:00:00\u001b[0m\n",
            "\u001b[2K   \u001b[90m━━━━━━━━━━━━━━━━━━━━━━━━━━━━━━━━━━━━━━━━\u001b[0m \u001b[32m119.4/119.4 kB\u001b[0m \u001b[31m5.9 MB/s\u001b[0m eta \u001b[36m0:00:00\u001b[0m\n",
            "\u001b[2K   \u001b[90m━━━━━━━━━━━━━━━━━━━━━━━━━━━━━━━━━━━━━━━━\u001b[0m \u001b[32m2.0/2.0 MB\u001b[0m \u001b[31m36.1 MB/s\u001b[0m eta \u001b[36m0:00:00\u001b[0m\n",
            "\u001b[2K   \u001b[90m━━━━━━━━━━━━━━━━━━━━━━━━━━━━━━━━━━━━━━━━\u001b[0m \u001b[32m49.7/49.7 kB\u001b[0m \u001b[31m2.5 MB/s\u001b[0m eta \u001b[36m0:00:00\u001b[0m\n",
            "\u001b[2K   \u001b[90m━━━━━━━━━━━━━━━━━━━━━━━━━━━━━━━━━━━━━━━━\u001b[0m \u001b[32m49.7/49.7 MB\u001b[0m \u001b[31m15.1 MB/s\u001b[0m eta \u001b[36m0:00:00\u001b[0m\n",
            "\u001b[2K   \u001b[90m━━━━━━━━━━━━━━━━━━━━━━━━━━━━━━━━━━━━━━━━\u001b[0m \u001b[32m108.5/108.5 kB\u001b[0m \u001b[31m8.7 MB/s\u001b[0m eta \u001b[36m0:00:00\u001b[0m\n",
            "\u001b[2K     \u001b[90m━━━━━━━━━━━━━━━━━━━━━━━━━━━━━━━━━━━━━━━━\u001b[0m \u001b[32m643.4/643.4 kB\u001b[0m \u001b[31m8.0 MB/s\u001b[0m eta \u001b[36m0:00:00\u001b[0m\n",
            "\u001b[?25h  Installing build dependencies ... \u001b[?25l\u001b[?25hdone\n",
            "  Getting requirements to build wheel ... \u001b[?25l\u001b[?25hdone\n",
            "  Installing backend dependencies ... \u001b[?25l\u001b[?25hdone\n",
            "  Preparing metadata (pyproject.toml) ... \u001b[?25l\u001b[?25hdone\n",
            "\u001b[2K   \u001b[90m━━━━━━━━━━━━━━━━━━━━━━━━━━━━━━━━━━━━━━━━\u001b[0m \u001b[32m167.6/167.6 kB\u001b[0m \u001b[31m13.4 MB/s\u001b[0m eta \u001b[36m0:00:00\u001b[0m\n",
            "\u001b[2K   \u001b[90m━━━━━━━━━━━━━━━━━━━━━━━━━━━━━━━━━━━━━━━━\u001b[0m \u001b[32m310.5/310.5 kB\u001b[0m \u001b[31m24.6 MB/s\u001b[0m eta \u001b[36m0:00:00\u001b[0m\n",
            "\u001b[?25h  Building wheel for docplex (pyproject.toml) ... \u001b[?25l\u001b[?25hdone\n",
            "\u001b[2K   \u001b[90m━━━━━━━━━━━━━━━━━━━━━━━━━━━━━━━━━━━━━━━━\u001b[0m \u001b[32m9.0/9.0 MB\u001b[0m \u001b[31m44.2 MB/s\u001b[0m eta \u001b[36m0:00:00\u001b[0m\n",
            "\u001b[2K   \u001b[90m━━━━━━━━━━━━━━━━━━━━━━━━━━━━━━━━━━━━━━━━\u001b[0m \u001b[32m107.0/107.0 kB\u001b[0m \u001b[31m4.0 MB/s\u001b[0m eta \u001b[36m0:00:00\u001b[0m\n",
            "\u001b[2K   \u001b[90m━━━━━━━━━━━━━━━━━━━━━━━━━━━━━━━━━━━━━━━━\u001b[0m \u001b[32m158.9/158.9 kB\u001b[0m \u001b[31m6.3 MB/s\u001b[0m eta \u001b[36m0:00:00\u001b[0m\n",
            "\u001b[2K   \u001b[90m━━━━━━━━━━━━━━━━━━━━━━━━━━━━━━━━━━━━━━━━\u001b[0m \u001b[32m102.3/102.3 kB\u001b[0m \u001b[31m9.2 MB/s\u001b[0m eta \u001b[36m0:00:00\u001b[0m\n",
            "\u001b[2K   \u001b[90m━━━━━━━━━━━━━━━━━━━━━━━━━━━━━━━━━━━━━━━━\u001b[0m \u001b[32m2.5/2.5 MB\u001b[0m \u001b[31m41.4 MB/s\u001b[0m eta \u001b[36m0:00:00\u001b[0m\n",
            "\u001b[2K   \u001b[90m━━━━━━━━━━━━━━━━━━━━━━━━━━━━━━━━━━━━━━━━\u001b[0m \u001b[32m3.3/3.3 MB\u001b[0m \u001b[31m80.9 MB/s\u001b[0m eta \u001b[36m0:00:00\u001b[0m\n",
            "\u001b[2K   \u001b[90m━━━━━━━━━━━━━━━━━━━━━━━━━━━━━━━━━━━━━━━━\u001b[0m \u001b[32m6.7/6.7 MB\u001b[0m \u001b[31m88.2 MB/s\u001b[0m eta \u001b[36m0:00:00\u001b[0m\n",
            "\u001b[2K   \u001b[90m━━━━━━━━━━━━━━━━━━━━━━━━━━━━━━━━━━━━━━━━\u001b[0m \u001b[32m3.9/3.9 MB\u001b[0m \u001b[31m81.9 MB/s\u001b[0m eta \u001b[36m0:00:00\u001b[0m\n",
            "\u001b[2K   \u001b[90m━━━━━━━━━━━━━━━━━━━━━━━━━━━━━━━━━━━━━━━━\u001b[0m \u001b[32m225.1/225.1 kB\u001b[0m \u001b[31m18.8 MB/s\u001b[0m eta \u001b[36m0:00:00\u001b[0m\n",
            "\u001b[2K   \u001b[90m━━━━━━━━━━━━━━━━━━━━━━━━━━━━━━━━━━━━━━━━\u001b[0m \u001b[32m45.5/45.5 kB\u001b[0m \u001b[31m717.0 kB/s\u001b[0m eta \u001b[36m0:00:00\u001b[0m\n",
            "\u001b[?25h"
          ]
        }
      ],
      "source": [
        "!pip -q install dimod\n",
        "!pip -q install dwave-system"
      ]
    },
    {
      "cell_type": "code",
      "source": [
        "import numpy as np\n",
        "from dwave.system import EmbeddingComposite\n",
        "from dwave.system import DWaveSampler\n",
        "from dwave.system import LeapHybridCQMSampler\n",
        "import dimod\n",
        "from dimod import ConstrainedQuadraticModel, Binary"
      ],
      "metadata": {
        "id": "E5X3GmFBcbCH"
      },
      "execution_count": null,
      "outputs": []
    },
    {
      "cell_type": "markdown",
      "source": [
        "# Bin Packing usnig Constrained Quadratic Model"
      ],
      "metadata": {
        "id": "fyuKsw86fjKs"
      }
    },
    {
      "cell_type": "code",
      "source": [
        "cqm = ConstrainedQuadraticModel()\n",
        "items = [1, 2, 3, 4]\n",
        "bins = [1, 2, 3, 4]\n",
        "sizes = {1: 4, 2: 2, 3: 1, 4: 3}\n",
        "capacity = 5\n",
        "\n",
        "# Variables\n",
        "x = {(i, j): Binary(f'x_{i}_{j}') for i in items for j in bins}\n",
        "y = {j: Binary(f'y_{j}') for j in bins}\n",
        "\n",
        "# Objective\n",
        "cqm.set_objective(sum(y[j] for j in bins))\n",
        "\n",
        "# Constraints\n",
        "for i in items:\n",
        "    cqm.add_constraint(sum(x[i, j] for j in bins) == 1, label=f'assign_{i}')\n",
        "\n",
        "for j in bins:\n",
        "    cqm.add_constraint(sum(sizes[i] * x[i, j] for i in items) - capacity * y[j] <= 0, label=f'capacity_{j}')"
      ],
      "metadata": {
        "id": "lL0cP6mHoGI_"
      },
      "execution_count": null,
      "outputs": []
    },
    {
      "cell_type": "code",
      "source": [
        "print(cqm)"
      ],
      "metadata": {
        "colab": {
          "base_uri": "https://localhost:8080/"
        },
        "id": "CJ3LnEGhpTV9",
        "outputId": "02f2728b-5871-4b63-a0b9-c1df40cee145"
      },
      "execution_count": null,
      "outputs": [
        {
          "output_type": "stream",
          "name": "stdout",
          "text": [
            "Constrained quadratic model: 20 variables, 8 constraints, 40 biases\n",
            "\n",
            "Objective\n",
            "  Binary('y_1') + Binary('y_2') + Binary('y_3') + Binary('y_4')\n",
            "\n",
            "Constraints\n",
            "  assign_1: Binary('x_1_1') + Binary('x_1_2') + Binary('x_1_3') + Binary('x_1_4') == 1.0\n",
            "  assign_2: Binary('x_2_1') + Binary('x_2_2') + Binary('x_2_3') + Binary('x_2_4') == 1.0\n",
            "  assign_3: Binary('x_3_1') + Binary('x_3_2') + Binary('x_3_3') + Binary('x_3_4') == 1.0\n",
            "  assign_4: Binary('x_4_1') + Binary('x_4_2') + Binary('x_4_3') + Binary('x_4_4') == 1.0\n",
            "  capacity_1: 4*Binary('x_1_1') + 2*Binary('x_2_1') + Binary('x_3_1') + 3*Binary('x_4_1') - 5*Binary('y_1') <= 0.0\n",
            "  capacity_2: 4*Binary('x_1_2') + 2*Binary('x_2_2') + Binary('x_3_2') + 3*Binary('x_4_2') - 5*Binary('y_2') <= 0.0\n",
            "  capacity_3: 4*Binary('x_1_3') + 2*Binary('x_2_3') + Binary('x_3_3') + 3*Binary('x_4_3') - 5*Binary('y_3') <= 0.0\n",
            "  capacity_4: 4*Binary('x_1_4') + 2*Binary('x_2_4') + Binary('x_3_4') + 3*Binary('x_4_4') - 5*Binary('y_4') <= 0.0\n",
            "\n",
            "Bounds\n",
            "\n"
          ]
        }
      ]
    },
    {
      "cell_type": "code",
      "source": [
        "sampler = LeapHybridCQMSampler(token='EnterYourTokenHere')"
      ],
      "metadata": {
        "id": "FMuGGLv-XI8o"
      },
      "execution_count": null,
      "outputs": []
    },
    {
      "cell_type": "code",
      "source": [
        "# sampleset = sampler.sample_cqm(cqm, time_limit=180, label=\"Bin Packing\")\n",
        "\n",
        "feasible_sampleset = sampleset.filter(lambda row: row.is_feasible)\n",
        "\n",
        "if len(feasible_sampleset):\n",
        "  best = feasible_sampleset.first\n",
        "  print(\"{} feasible solutions of {}.\".format(len(feasible_sampleset), len(sampleset)))"
      ],
      "metadata": {
        "colab": {
          "base_uri": "https://localhost:8080/"
        },
        "id": "SForQ1mOq3Mm",
        "outputId": "e966c846-c0f7-4044-ac2a-2fc49a8569ee"
      },
      "execution_count": null,
      "outputs": [
        {
          "output_type": "stream",
          "name": "stdout",
          "text": [
            "163 feasible solutions of 166.\n"
          ]
        }
      ]
    },
    {
      "cell_type": "code",
      "source": [
        "print(best)"
      ],
      "metadata": {
        "colab": {
          "base_uri": "https://localhost:8080/"
        },
        "id": "cBDBmy2je8S1",
        "outputId": "2e2f1dc8-0c9d-4d13-cd54-3df41a0b1277"
      },
      "execution_count": null,
      "outputs": [
        {
          "output_type": "stream",
          "name": "stdout",
          "text": [
            "Sample(sample={'x_1_1': 1.0, 'x_1_2': 0.0, 'x_1_3': 0.0, 'x_1_4': 0.0, 'x_2_1': 0.0, 'x_2_2': 0.0, 'x_2_3': 1.0, 'x_2_4': 0.0, 'x_3_1': 1.0, 'x_3_2': 0.0, 'x_3_3': 0.0, 'x_3_4': 0.0, 'x_4_1': 0.0, 'x_4_2': 0.0, 'x_4_3': 1.0, 'x_4_4': 0.0, 'y_1': 1.0, 'y_2': 0.0, 'y_3': 1.0, 'y_4': 0.0}, energy=2.0, num_occurrences=1, is_satisfied=array([ True,  True,  True,  True,  True,  True,  True,  True]), is_feasible=True)\n"
          ]
        }
      ]
    },
    {
      "cell_type": "code",
      "source": [
        "selected_bins = [key for key, val in best.sample.items() if 'y_' in key and val]\n",
        "print(\"{} bins are used.\".format(len(selected_bins)))"
      ],
      "metadata": {
        "id": "Wf5w5zhEs6HN",
        "colab": {
          "base_uri": "https://localhost:8080/"
        },
        "outputId": "6b968025-f8d8-45c9-f3c5-98d7f491ef6e"
      },
      "execution_count": null,
      "outputs": [
        {
          "output_type": "stream",
          "name": "stdout",
          "text": [
            "2 bins are used.\n"
          ]
        }
      ]
    }
  ]
}
